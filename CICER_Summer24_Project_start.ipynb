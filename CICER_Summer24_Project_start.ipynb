{
 "cells": [
  {
   "cell_type": "markdown",
   "id": "675756b2",
   "metadata": {},
   "source": [
    "![](data:image/png;base64,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)\n",
    "\n",
    "___"
   ]
  },
  {
   "cell_type": "code",
   "execution_count": null,
   "id": "09ad192c",
   "metadata": {},
   "outputs": [],
   "source": [
    "student_1_full_name = ''\n",
    "student_1_email     = ''\n",
    "#---------------------------------\n",
    "student_2_full_name = '' \n",
    "student_2_email     = '' "
   ]
  },
  {
   "cell_type": "markdown",
   "id": "d22e4321",
   "metadata": {},
   "source": [
    "---\n",
    "### yfinance library\n",
    "\n",
    "You can use **yfinance** in your project for downloading data from yahoo finance website. For more information on **yfinance** library go to https://pypi.org/project/yfinance/.\n",
    "\n",
    "The **download** method returns the prices in Panda dataframe format. The first row of the returned df is the prices of the start date, and the last row is the prices of one day before the end date. The end date is not included in the returned df. For all sections, you can assume the end date refers to one day before the end day (start date up to the end date, end date is not included). See the example below."
   ]
  },
  {
   "cell_type": "code",
   "execution_count": 1,
   "id": "7e15ba81",
   "metadata": {},
   "outputs": [],
   "source": [
    "import yfinance as yf\n",
    "import pandas as pd"
   ]
  },
  {
   "cell_type": "code",
   "execution_count": 2,
   "id": "526bd540",
   "metadata": {},
   "outputs": [
    {
     "data": {
      "text/html": [
       "<div>\n",
       "<style scoped>\n",
       "    .dataframe tbody tr th:only-of-type {\n",
       "        vertical-align: middle;\n",
       "    }\n",
       "\n",
       "    .dataframe tbody tr th {\n",
       "        vertical-align: top;\n",
       "    }\n",
       "\n",
       "    .dataframe thead th {\n",
       "        text-align: right;\n",
       "    }\n",
       "</style>\n",
       "<table border=\"1\" class=\"dataframe\">\n",
       "  <thead>\n",
       "    <tr style=\"text-align: right;\">\n",
       "      <th></th>\n",
       "      <th>Open</th>\n",
       "      <th>High</th>\n",
       "      <th>Low</th>\n",
       "      <th>Close</th>\n",
       "      <th>Adj Close</th>\n",
       "      <th>Volume</th>\n",
       "    </tr>\n",
       "    <tr>\n",
       "      <th>Date</th>\n",
       "      <th></th>\n",
       "      <th></th>\n",
       "      <th></th>\n",
       "      <th></th>\n",
       "      <th></th>\n",
       "      <th></th>\n",
       "    </tr>\n",
       "  </thead>\n",
       "  <tbody>\n",
       "    <tr>\n",
       "      <th>2023-11-06</th>\n",
       "      <td>353.450012</td>\n",
       "      <td>357.540009</td>\n",
       "      <td>353.350006</td>\n",
       "      <td>356.529999</td>\n",
       "      <td>354.511658</td>\n",
       "      <td>23828300</td>\n",
       "    </tr>\n",
       "    <tr>\n",
       "      <th>2023-11-07</th>\n",
       "      <td>359.399994</td>\n",
       "      <td>362.459991</td>\n",
       "      <td>357.630005</td>\n",
       "      <td>360.529999</td>\n",
       "      <td>358.489014</td>\n",
       "      <td>25833900</td>\n",
       "    </tr>\n",
       "    <tr>\n",
       "      <th>2023-11-08</th>\n",
       "      <td>361.679993</td>\n",
       "      <td>363.869995</td>\n",
       "      <td>360.549988</td>\n",
       "      <td>363.200012</td>\n",
       "      <td>361.143890</td>\n",
       "      <td>26767800</td>\n",
       "    </tr>\n",
       "  </tbody>\n",
       "</table>\n",
       "</div>"
      ],
      "text/plain": [
       "                  Open        High         Low       Close   Adj Close  \\\n",
       "Date                                                                     \n",
       "2023-11-06  353.450012  357.540009  353.350006  356.529999  354.511658   \n",
       "2023-11-07  359.399994  362.459991  357.630005  360.529999  358.489014   \n",
       "2023-11-08  361.679993  363.869995  360.549988  363.200012  361.143890   \n",
       "\n",
       "              Volume  \n",
       "Date                  \n",
       "2023-11-06  23828300  \n",
       "2023-11-07  25833900  \n",
       "2023-11-08  26767800  "
      ]
     },
     "execution_count": 2,
     "metadata": {},
     "output_type": "execute_result"
    }
   ],
   "source": [
    "ticker = 'MSFT'\n",
    "start_date = '2023-11-06'\n",
    "end_date = '2023-11-09'\n",
    "\n",
    "df = yf.download(ticker, start_date, end_date, progress=False)\n",
    "df"
   ]
  },
  {
   "cell_type": "markdown",
   "id": "172f8899",
   "metadata": {},
   "source": [
    "To get the stock closing price of company for a given date, we have:"
   ]
  },
  {
   "cell_type": "code",
   "execution_count": 3,
   "id": "7764dda4",
   "metadata": {},
   "outputs": [
    {
     "data": {
      "text/plain": [
       "Date\n",
       "2019-11-04    138.315765\n",
       "Name: Adj Close, dtype: float64"
      ]
     },
     "execution_count": 3,
     "metadata": {},
     "output_type": "execute_result"
    }
   ],
   "source": [
    "ticker = 'MSFT'\n",
    "start_date = '2019-11-04'\n",
    "end_date = '2019-11-05'\n",
    "\n",
    "df = yf.download(ticker, start_date, end_date, progress=False)\n",
    "df['Adj Close']"
   ]
  },
  {
   "cell_type": "markdown",
   "id": "7af4ba02",
   "metadata": {},
   "source": [
    "---\n",
    "## Part 1\n",
    "Explain each one of the following terms in one or two paragraphs:"
   ]
  },
  {
   "cell_type": "markdown",
   "id": "e4da8a75",
   "metadata": {},
   "source": [
    "### 1-a) What is a stock and ticker?"
   ]
  },
  {
   "cell_type": "markdown",
   "id": "84841a3f",
   "metadata": {},
   "source": [
    "A stock represents ownership in a corporation, giving the stockholder a claim on part of the company's assets and earnings. Stocks are a type of security, and they come in two main types: common and preferred. Common stockholders typically have voting rights and may receive dividends, while preferred stockholders have a higher claim on assets and earnings but usually do not have voting rights.\n",
    "\n",
    "A ticker symbol is a unique series of letters assigned to a security or stock for trading purposes. These symbols are used by stock exchanges to identify listed companies and other securities. For example, MSFT is the ticker symbol for Microsoft Corporation. Ticker symbols are essential for traders and investors to track and execute trades on specific stocks.\n",
    "\n"
   ]
  },
  {
   "cell_type": "markdown",
   "id": "1056f561",
   "metadata": {},
   "source": [
    "### 1-b) What is open, high, low, and close price of a stock?"
   ]
  },
  {
   "cell_type": "markdown",
   "id": "f9be761f",
   "metadata": {},
   "source": [
    "Open Price: The price at which a stock first trades upon the opening of an exchange on a given trading day. It represents the starting price for the day and is determined by the previous day's closing price and any overnight market activity.\n",
    "\n",
    "High Price: The highest price at which a stock trades during a given trading day. This price can fluctuate throughout the day as trades are executed.\n",
    "\n",
    "Low Price: The lowest price at which a stock trades during a given trading day. Like the high price, the low price can change based on market activity throughout the day.\n",
    "\n",
    "Close Price: The final price at which a stock trades during regular trading hours on a given day. The closing price is considered a significant indicator of a stock's value for that day and is often used for historical comparison.\n",
    "\n"
   ]
  },
  {
   "cell_type": "markdown",
   "id": "ff7c06bf",
   "metadata": {},
   "source": [
    "### 1-c) What is a stock portfolio?"
   ]
  },
  {
   "cell_type": "markdown",
   "id": "0c7507cc",
   "metadata": {},
   "source": [
    "A stock portfolio is a collection of stocks that an individual or institutional investor owns. The composition of a portfolio can vary widely based on the investor's goals, risk tolerance, and investment strategy. A well-diversified portfolio typically includes a mix of stocks from different sectors, industries, and geographic regions to reduce risk and enhance potential returns. Portfolio management involves selecting the right mix of stocks, monitoring their performance, and making adjustments as needed to align with the investor's financial goals and market conditions.\n",
    "\n",
    "\n",
    "\n"
   ]
  },
  {
   "cell_type": "markdown",
   "id": "dee43bd8",
   "metadata": {},
   "source": [
    "---\n",
    "Answer the following questions. For all parts, you must use **yfinance** library to get stock prices and use **Adj Close** price for calculation.\n"
   ]
  },
  {
   "cell_type": "markdown",
   "id": "a6e06971",
   "metadata": {},
   "source": [
    "---\n",
    "## Part 2 - Get stock return:\n",
    "\n",
    "Write a Python code that calculates stock simple return for a given start date and end data. The formula for calculating simple return is as follows:\n",
    "\n",
    "\n",
    "$$r = \\frac{p_{d2} - p_{d1}}{p_{d1}}$$\n",
    "\n",
    "Where:\n",
    "\n",
    "    r is simple return \n",
    "    p of d1 is price at date d1\n",
    "    p of d2 is price at date d2\n",
    "    "
   ]
  },
  {
   "cell_type": "code",
   "execution_count": null,
   "id": "a2ed61f4",
   "metadata": {},
   "outputs": [],
   "source": [
    "# inputs:\n",
    "ticker = 'MSFT'\n",
    "start_date = '2023-01-06'\n",
    "end_date   = '2024-01-06'"
   ]
  },
  {
   "cell_type": "code",
   "execution_count": null,
   "id": "1d7639c2",
   "metadata": {},
   "outputs": [],
   "source": [
    "import yfinance as yf\n",
    "\n",
    "def calculate_simple_return(ticker, start_date, end_date):\n",
     "\n",
        "    # Download the stock data\n",
         "    df = yf.download(ticker, start_date, end_date, progress=False)\n",
         "\n",
         "    # Get the adjusted closing price on the start and end dates\n",
         "    start_price = df['Adj Close'].iloc[0]\n",
         "    end_price = df['Adj Close'].iloc[-1]\n",
         "\n", 
         "    # Calculate the simple return\n",
         "    simple_return = (end_price - start_price) / start_price\n",
         "    return simple_return\n",
          "\n", 
"# Inputs\n",
"ticker = 'MSFT'\n",
"start_date = '2023-01-06'\n",
"end_date = '2024-01-06'\n",
    "\n",
"# Calculate and print the simple return\n",
"simple_return = calculate_simple_return(ticker, start_date, end_date)\n",
"print(f\"The simple return for {ticker} from {start_date} to {end_date} is: {simple_return:.4f}\")\n",
    "\n"
   ]
  },
  {
   "cell_type": "markdown",
   "id": "103828b3",
   "metadata": {},
   "source": [
    "---\n",
    "## Part 3 - Get portfolio value: \n",
    "\n",
    "Write a Python code that takes a list of tickers, a list of ticker quantities, and a date. The code should return the total value of the portfolio for a given date.\n",
    "\n",
    "Let's assume the we have the following portfolio:\n",
    "\n",
    "    ['IBM', 'AAPL', 'MSFT'], [3, 5, 20] -> 3 IBM shares, 5 AAPL shares, 20 MSFT shares.\n",
    "\n",
    "The value of the portfolio is:\n",
    "\n",
    "the qty of stock 1 x price of stock 1 at the given date + qty of stock 2 x price of stock 2 at the given date + ..."
   ]
  },
  {
   "cell_type": "code",
   "execution_count": null,
   "id": "0b5d84e1",
   "metadata": {},
   "outputs": [],
   "source": [
    "# inputs:\n",
    "tickers = ['IBM', 'AAPL', 'MSFT']\n",
    "ticker_quantities = [3, 5, 20]\n",
    "target_date = '2019-11-05'"
   ]
  },
  {
   "cell_type": "code",
   "execution_count": null,
   "id": "492d355d",
   "metadata": {},
   "outputs": [],
   "source": [
    "import yfinance as yf\n",
"\n",
"def get_portfolio_value(tickers, ticker_quantities, target_date):\n",
    "    total_value = 0.0\n",
    "\n",
    "    for ticker, quantity in zip(tickers, ticker_quantities):\n",
        "    # Download the stock data for the specific date\n",
        "        df = yf.download(ticker, start=target_date, end=target_date, progress=False)\n",
        "\n",
        "        if df.empty:\n",
            "            print(f\"No data found for {ticker} on {target_date}\")\n",
            "         continue\n",
        "\n",
        "        # Get the adjusted closing price on the target date\n",
        "        adj_close_price = df['Adj Close'].iloc[0]\n",
        "\n",
        "        # Calculate the value of the current stock\n",
        "        stock_value = adj_close_price * quantity\n",
        "\n",
        "        # Add the stock value to the total portfolio value\n",
        "        total_value += stock_value\n",
        "\n",
    "    return total_value\n",
"\n",
"# Inputs\n",
"tickers = ['IBM', 'AAPL', 'MSFT']\n",
"ticker_quantities = [3, 5, 20]\n",
"target_date = '2019-11-05'\n",
"\n",
"# Calculate and print the portfolio value\n",
"portfolio_value = get_portfolio_value(tickers, ticker_quantities, target_date)\n",
"print(f\"The total value of the portfolio on {target_date} is: ${portfolio_value:.2f}\")\n",
    "\n",
    "\n",
    "\n"
   ]
  },
  {
   "cell_type": "markdown",
   "id": "dfa98c3e",
   "metadata": {},
   "source": [
    "---\n",
    "## Part 4 - portfolio graph: \n",
    "\n",
    "Write a Python code that generates a graph for the list of tickers given below. Use stock Adj closing prices."
   ]
  },
  {
   "cell_type": "code",
   "execution_count": null,
   "id": "9b779bb8",
   "metadata": {},
   "outputs": [],
   "source": [
    "# inputs:\n",
    "tickers = ['GM', 'MSFT', 'F']\n",
    "start_date = '2019-01-10'\n",
    "end_date = '2020-01-10'"
   ]
  },
  {
   "cell_type": "code",
   "execution_count": null,
   "id": "4e9c12f3",
   "metadata": {},
   "outputs": [],
   "source": [
"import yfinance as yf\n",
"import matplotlib.pyplot as plt\n",
"\n",
"def plot_stock_prices(tickers, start_date, end_date):\n",
    "    plt.figure(figsize=(14, 7))\n",
"\n",
    "    for ticker in tickers:\n",
        "        # Download the stock data\n",
        "        df = yf.download(ticker, start=start_date, end=end_date, progress=False)\n",
"\n",
        "        # Plot the adjusted closing price\n",
        "        plt.plot(df.index, df['Adj Close'], label=ticker)\n",
"\n",
    "    # Set the title and labels\n",
    "    plt.title('Stock Adjusted Closing Prices')\n",
    "    plt.xlabel('Date')\n",
    "    plt.ylabel('Adjusted Closing Price')\n",
    "    plt.legend()\n",
    "    plt.grid(True)\n",
    "\n",
    "    # Display the plot\n",
    "    plt.show()\n",
"\n",
"# Inputs\n",
"tickers = ['GM', 'MSFT', 'F']\n",
"start_date = '2019-01-10'\n",
"end_date = '2020-01-10'\n",
"\n",
"# Generate the stock price graph\n",
"plot_stock_prices(tickers, start_date, end_date)\n",
    "\n",
    "\n"
   ]
  },
  {
   "cell_type": "markdown",
   "id": "5731a4a2",
   "metadata": {},
   "source": [
    "---\n",
    "## Part 5 - Optional & not graded - Get portfolio return: \n",
    "\n",
    "\n",
    "Write a Python code that takes a list of tickers, a list of ticker quantities, start date, and end date. The code should return the overall simple return on the portfolio.\n"
   ]
  },
  {
   "cell_type": "code",
   "execution_count": null,
   "id": "a1d5a0ec",
   "metadata": {},
   "outputs": [],
   "source": [
    "# inputs:\n",
    "tickers = ['IBM', 'AAPL', 'MSFT']\n",
    "ticker_quantities = [3, 5, 20]\n",
    "start_date = '2019-11-05'\n",
    "end_date = '2020-11-05'"
   ]
  },
  {
   "cell_type": "code",
   "execution_count": null,
   "id": "06c5d1b1",
   "metadata": {},
   "outputs": [],
   "source": [
    "import yfinance as yf\n",
"\n",
"def calculate_portfolio_simple_return(tickers, ticker_quantities, start_date, end_date):\n",
    "    start_value = 0.0\n",
    "    end_value = 0.0\n",
"\n",    
    "    for ticker, quantity in zip(tickers, ticker_quantities):\n",
        "        # Download the stock data for the start and end dates\n",
        "df_start = yf.download(ticker, start=start_date, end=start_date, progress=False)\n",
        "        df_end = yf.download(ticker, start=end_date, end=end_date, progress=False)\n",
    "\n",
        "        if df_start.empty or df_end.empty:\n",
            "            print(f\"No data found for {ticker} on the specified dates\")\n",
            "            continue\n",
        "\n",
        "        # Get the adjusted closing price on the start and end dates\n",
        "        start_price = df_start['Adj Close'].iloc[0]\n",
        "        end_price = df_end['Adj Close'].iloc[0]\n",
        "\n",
        "        # Calculate the value of the current stock at the start and end dates\n",
        "        start_value += start_price * quantity\n",
        "        end_value += end_price * quantity\n",
        "\n",
    "    # Calculate the overall simple return\n",
    "    simple_return = (end_value - start_value) / start_value\n",
"\n",
   "    return simple_return\n",
"\n",
"# Inputs\n",
"tickers = ['IBM', 'AAPL', 'MSFT']\n",
"ticker_quantities = [3, 5, 20]\n",
"start_date = '2019-11-05'\n",
"end_date = '2020-11-05'\n",
"\n",
"# Calculate and print the overall simple return on the portfolio\n",
"portfolio_simple_return = calculate_portfolio_simple_return(tickers, ticker_quantities, start_date, end_date)\n",
"print(f\"The overall simple return on the portfolio from {start_date} to {end_date} is: {portfolio_simple_return:.4f}\")\n",
    "\n",
    "\n"
   ]
  }
 ],
 "metadata": {
  "kernelspec": {
   "display_name": "Python 3 (ipykernel)",
   "language": "python",
   "name": "python3"
  },
  "language_info": {
   "codemirror_mode": {
    "name": "ipython",
    "version": 3
   },
   "file_extension": ".py",
   "mimetype": "text/x-python",
   "name": "python",
   "nbconvert_exporter": "python",
   "pygments_lexer": "ipython3",
   "version": "3.9.12"
  }
 },
 "nbformat": 4,
 "nbformat_minor": 5
}
